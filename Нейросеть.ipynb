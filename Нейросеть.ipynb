{
 "cells": [
  {
   "cell_type": "code",
   "execution_count": 1,
   "id": "10c4f49c",
   "metadata": {},
   "outputs": [],
   "source": [
    "import numpy as np\n",
    "import pandas as pd   \n",
    "\n",
    "from sklearn.model_selection import train_test_split \n",
    "from keras import layers"
   ]
  },
  {
   "cell_type": "code",
   "execution_count": 2,
   "id": "90bc1e82",
   "metadata": {},
   "outputs": [],
   "source": [
    "train_data = pd.read_csv('train_data_1.csv')"
   ]
  },
  {
   "cell_type": "code",
   "execution_count": 3,
   "id": "ab431b17",
   "metadata": {},
   "outputs": [
    {
     "data": {
      "text/html": [
       "<div>\n",
       "<style scoped>\n",
       "    .dataframe tbody tr th:only-of-type {\n",
       "        vertical-align: middle;\n",
       "    }\n",
       "\n",
       "    .dataframe tbody tr th {\n",
       "        vertical-align: top;\n",
       "    }\n",
       "\n",
       "    .dataframe thead th {\n",
       "        text-align: right;\n",
       "    }\n",
       "</style>\n",
       "<table border=\"1\" class=\"dataframe\">\n",
       "  <thead>\n",
       "    <tr style=\"text-align: right;\">\n",
       "      <th></th>\n",
       "      <th>customer_ID</th>\n",
       "      <th>B_1</th>\n",
       "      <th>R_1</th>\n",
       "      <th>S_3</th>\n",
       "      <th>D_47</th>\n",
       "      <th>B_7</th>\n",
       "      <th>B_11</th>\n",
       "      <th>S_8</th>\n",
       "      <th>D_58</th>\n",
       "      <th>S_15</th>\n",
       "      <th>B_23</th>\n",
       "      <th>R_10</th>\n",
       "      <th>D_122</th>\n",
       "      <th>target</th>\n",
       "    </tr>\n",
       "  </thead>\n",
       "  <tbody>\n",
       "    <tr>\n",
       "      <th>0</th>\n",
       "      <td>0000099d6bd597052cdcda90ffabf56573fe9d7c79be5f...</td>\n",
       "      <td>0.008724</td>\n",
       "      <td>0.009228</td>\n",
       "      <td>0.124035</td>\n",
       "      <td>0.525351</td>\n",
       "      <td>0.059416</td>\n",
       "      <td>0.002768</td>\n",
       "      <td>2896</td>\n",
       "      <td>0.158612</td>\n",
       "      <td>4</td>\n",
       "      <td>0.050882</td>\n",
       "      <td>0</td>\n",
       "      <td>3</td>\n",
       "      <td>0</td>\n",
       "    </tr>\n",
       "    <tr>\n",
       "      <th>1</th>\n",
       "      <td>00000fd6641609c6ece5454664794f0340ad84dddce9a2...</td>\n",
       "      <td>0.025782</td>\n",
       "      <td>0.005515</td>\n",
       "      <td>0.089799</td>\n",
       "      <td>0.382562</td>\n",
       "      <td>0.032390</td>\n",
       "      <td>0.011677</td>\n",
       "      <td>1880</td>\n",
       "      <td>0.007069</td>\n",
       "      <td>5</td>\n",
       "      <td>0.014834</td>\n",
       "      <td>0</td>\n",
       "      <td>2</td>\n",
       "      <td>0</td>\n",
       "    </tr>\n",
       "    <tr>\n",
       "      <th>2</th>\n",
       "      <td>00001b22f846c82c51f6e3958ccd81970162bae8b007e8...</td>\n",
       "      <td>0.001472</td>\n",
       "      <td>0.005955</td>\n",
       "      <td>NaN</td>\n",
       "      <td>0.318290</td>\n",
       "      <td>0.029138</td>\n",
       "      <td>0.001677</td>\n",
       "      <td>0</td>\n",
       "      <td>0.079300</td>\n",
       "      <td>8</td>\n",
       "      <td>0.022871</td>\n",
       "      <td>0</td>\n",
       "      <td>1</td>\n",
       "      <td>0</td>\n",
       "    </tr>\n",
       "    <tr>\n",
       "      <th>3</th>\n",
       "      <td>000041bdba6ecadd89a52d11886e8eaaec9325906c9723...</td>\n",
       "      <td>0.070311</td>\n",
       "      <td>0.004228</td>\n",
       "      <td>0.407420</td>\n",
       "      <td>0.392230</td>\n",
       "      <td>0.252338</td>\n",
       "      <td>0.043140</td>\n",
       "      <td>1454</td>\n",
       "      <td>0.006255</td>\n",
       "      <td>6</td>\n",
       "      <td>0.214540</td>\n",
       "      <td>0</td>\n",
       "      <td>3</td>\n",
       "      <td>0</td>\n",
       "    </tr>\n",
       "    <tr>\n",
       "      <th>4</th>\n",
       "      <td>00007889e4fcd2614b6cbe7f8f3d2e5c728eca32d9eb8a...</td>\n",
       "      <td>0.003433</td>\n",
       "      <td>0.007243</td>\n",
       "      <td>0.166190</td>\n",
       "      <td>0.465739</td>\n",
       "      <td>0.035662</td>\n",
       "      <td>0.009522</td>\n",
       "      <td>0</td>\n",
       "      <td>0.335621</td>\n",
       "      <td>8</td>\n",
       "      <td>0.024060</td>\n",
       "      <td>0</td>\n",
       "      <td>3</td>\n",
       "      <td>0</td>\n",
       "    </tr>\n",
       "    <tr>\n",
       "      <th>...</th>\n",
       "      <td>...</td>\n",
       "      <td>...</td>\n",
       "      <td>...</td>\n",
       "      <td>...</td>\n",
       "      <td>...</td>\n",
       "      <td>...</td>\n",
       "      <td>...</td>\n",
       "      <td>...</td>\n",
       "      <td>...</td>\n",
       "      <td>...</td>\n",
       "      <td>...</td>\n",
       "      <td>...</td>\n",
       "      <td>...</td>\n",
       "      <td>...</td>\n",
       "    </tr>\n",
       "    <tr>\n",
       "      <th>458908</th>\n",
       "      <td>ffff41c8a52833b56430603969b9ca48d208e7c192c6a4...</td>\n",
       "      <td>0.006084</td>\n",
       "      <td>0.009374</td>\n",
       "      <td>0.106511</td>\n",
       "      <td>0.199892</td>\n",
       "      <td>0.033493</td>\n",
       "      <td>0.003090</td>\n",
       "      <td>2380</td>\n",
       "      <td>0.009221</td>\n",
       "      <td>5</td>\n",
       "      <td>0.022149</td>\n",
       "      <td>0</td>\n",
       "      <td>6</td>\n",
       "      <td>0</td>\n",
       "    </tr>\n",
       "    <tr>\n",
       "      <th>458909</th>\n",
       "      <td>ffff518bb2075e4816ee3fe9f3b152c57fc0e6f01bf7fd...</td>\n",
       "      <td>0.431408</td>\n",
       "      <td>0.004702</td>\n",
       "      <td>0.324895</td>\n",
       "      <td>0.753185</td>\n",
       "      <td>0.335496</td>\n",
       "      <td>0.378606</td>\n",
       "      <td>0</td>\n",
       "      <td>0.426619</td>\n",
       "      <td>8</td>\n",
       "      <td>0.316597</td>\n",
       "      <td>0</td>\n",
       "      <td>2</td>\n",
       "      <td>0</td>\n",
       "    </tr>\n",
       "    <tr>\n",
       "      <th>458910</th>\n",
       "      <td>ffff9984b999fccb2b6127635ed0736dda94e544e67e02...</td>\n",
       "      <td>0.063875</td>\n",
       "      <td>0.007620</td>\n",
       "      <td>0.084054</td>\n",
       "      <td>0.309093</td>\n",
       "      <td>0.042889</td>\n",
       "      <td>0.045848</td>\n",
       "      <td>2896</td>\n",
       "      <td>0.005257</td>\n",
       "      <td>4</td>\n",
       "      <td>0.032193</td>\n",
       "      <td>0</td>\n",
       "      <td>1</td>\n",
       "      <td>0</td>\n",
       "    </tr>\n",
       "    <tr>\n",
       "      <th>458911</th>\n",
       "      <td>ffffa5c46bc8de74f5a4554e74e239c8dee6b9baf38814...</td>\n",
       "      <td>0.003494</td>\n",
       "      <td>0.005690</td>\n",
       "      <td>0.369159</td>\n",
       "      <td>0.565200</td>\n",
       "      <td>0.202482</td>\n",
       "      <td>0.000698</td>\n",
       "      <td>0</td>\n",
       "      <td>0.113516</td>\n",
       "      <td>8</td>\n",
       "      <td>0.159167</td>\n",
       "      <td>0</td>\n",
       "      <td>2</td>\n",
       "      <td>1</td>\n",
       "    </tr>\n",
       "    <tr>\n",
       "      <th>458912</th>\n",
       "      <td>fffff1d38b785cef84adeace64f8f83db3a0c31e8d92ea...</td>\n",
       "      <td>0.119478</td>\n",
       "      <td>0.002409</td>\n",
       "      <td>-0.007296</td>\n",
       "      <td>0.516073</td>\n",
       "      <td>0.094709</td>\n",
       "      <td>0.098086</td>\n",
       "      <td>2218</td>\n",
       "      <td>0.138120</td>\n",
       "      <td>5</td>\n",
       "      <td>0.077432</td>\n",
       "      <td>0</td>\n",
       "      <td>3</td>\n",
       "      <td>0</td>\n",
       "    </tr>\n",
       "  </tbody>\n",
       "</table>\n",
       "<p>458913 rows × 14 columns</p>\n",
       "</div>"
      ],
      "text/plain": [
       "                                              customer_ID       B_1       R_1  \\\n",
       "0       0000099d6bd597052cdcda90ffabf56573fe9d7c79be5f...  0.008724  0.009228   \n",
       "1       00000fd6641609c6ece5454664794f0340ad84dddce9a2...  0.025782  0.005515   \n",
       "2       00001b22f846c82c51f6e3958ccd81970162bae8b007e8...  0.001472  0.005955   \n",
       "3       000041bdba6ecadd89a52d11886e8eaaec9325906c9723...  0.070311  0.004228   \n",
       "4       00007889e4fcd2614b6cbe7f8f3d2e5c728eca32d9eb8a...  0.003433  0.007243   \n",
       "...                                                   ...       ...       ...   \n",
       "458908  ffff41c8a52833b56430603969b9ca48d208e7c192c6a4...  0.006084  0.009374   \n",
       "458909  ffff518bb2075e4816ee3fe9f3b152c57fc0e6f01bf7fd...  0.431408  0.004702   \n",
       "458910  ffff9984b999fccb2b6127635ed0736dda94e544e67e02...  0.063875  0.007620   \n",
       "458911  ffffa5c46bc8de74f5a4554e74e239c8dee6b9baf38814...  0.003494  0.005690   \n",
       "458912  fffff1d38b785cef84adeace64f8f83db3a0c31e8d92ea...  0.119478  0.002409   \n",
       "\n",
       "             S_3      D_47       B_7      B_11   S_8      D_58  S_15  \\\n",
       "0       0.124035  0.525351  0.059416  0.002768  2896  0.158612     4   \n",
       "1       0.089799  0.382562  0.032390  0.011677  1880  0.007069     5   \n",
       "2            NaN  0.318290  0.029138  0.001677     0  0.079300     8   \n",
       "3       0.407420  0.392230  0.252338  0.043140  1454  0.006255     6   \n",
       "4       0.166190  0.465739  0.035662  0.009522     0  0.335621     8   \n",
       "...          ...       ...       ...       ...   ...       ...   ...   \n",
       "458908  0.106511  0.199892  0.033493  0.003090  2380  0.009221     5   \n",
       "458909  0.324895  0.753185  0.335496  0.378606     0  0.426619     8   \n",
       "458910  0.084054  0.309093  0.042889  0.045848  2896  0.005257     4   \n",
       "458911  0.369159  0.565200  0.202482  0.000698     0  0.113516     8   \n",
       "458912 -0.007296  0.516073  0.094709  0.098086  2218  0.138120     5   \n",
       "\n",
       "            B_23  R_10  D_122  target  \n",
       "0       0.050882     0      3       0  \n",
       "1       0.014834     0      2       0  \n",
       "2       0.022871     0      1       0  \n",
       "3       0.214540     0      3       0  \n",
       "4       0.024060     0      3       0  \n",
       "...          ...   ...    ...     ...  \n",
       "458908  0.022149     0      6       0  \n",
       "458909  0.316597     0      2       0  \n",
       "458910  0.032193     0      1       0  \n",
       "458911  0.159167     0      2       1  \n",
       "458912  0.077432     0      3       0  \n",
       "\n",
       "[458913 rows x 14 columns]"
      ]
     },
     "execution_count": 3,
     "metadata": {},
     "output_type": "execute_result"
    }
   ],
   "source": [
    "train_data"
   ]
  },
  {
   "cell_type": "code",
   "execution_count": 4,
   "id": "9f926959",
   "metadata": {},
   "outputs": [],
   "source": [
    "X = train_data[['D_47', 'S_15', 'B_23', 'R_10']]\n",
    "y = train_data['target']\n",
    "X_train, X_test, y_train, y_test = train_test_split(X, y, test_size = 0.3, random_state = 42)"
   ]
  },
  {
   "cell_type": "code",
   "execution_count": 5,
   "id": "1a1a1b76",
   "metadata": {},
   "outputs": [],
   "source": [
    "import keras"
   ]
  },
  {
   "cell_type": "code",
   "execution_count": 6,
   "id": "aee9049c",
   "metadata": {},
   "outputs": [],
   "source": [
    "model = keras.Sequential()\n",
    "model.add(layers.Dense(128, activation = 'relu'))\n",
    "model.add(layers.Dense(16, activation = 'relu'))\n",
    "model.add(layers.Dense(1, activation = 'sigmoid'))\n",
    "\n",
    "model.compile(optimizer = 'adam',\n",
    "              loss = 'binary_crossentropy',\n",
    "              metrics = ['accuracy'])\n",
    "\n",
    "model.fit(X_train,\n",
    "          y_train,\n",
    "          epochs = 3)"
   ]
  },
  {
   "cell_type": "code",
   "execution_count": 7,
   "id": "6a865938",
   "metadata": {},
   "outputs": [
    {
     "name": "stdout",
     "output_type": "stream",
     "text": [
      "Epoch 1/3\n",
      "10039/10039 [==============================] - 13s 1ms/step - loss: 0.4469 - accuracy: 0.7734\n",
      "Epoch 2/3\n",
      "10039/10039 [==============================] - 13s 1ms/step - loss: 0.4405 - accuracy: 0.7762\n",
      "Epoch 3/3\n",
      "10039/10039 [==============================] - 13s 1ms/step - loss: 0.4391 - accuracy: 0.7771\n"
     ]
    },
    {
     "data": {
      "text/plain": [
       "<keras.callbacks.History at 0x239de90c3d0>"
      ]
     },
     "execution_count": 7,
     "metadata": {},
     "output_type": "execute_result"
    }
   ],
   "source": [
    "model.compile(optimizer = 'adam',\n",
    "              loss = 'binary_crossentropy',\n",
    "              metrics = ['accuracy'])\n",
    "\n",
    "model.fit(X_train,\n",
    "          y_train,\n",
    "          epochs = 3)"
   ]
  },
  {
   "cell_type": "code",
   "execution_count": 8,
   "id": "4f7a0d54",
   "metadata": {},
   "outputs": [],
   "source": [
    "y_train_pred = model.predict(X_train)\n",
    "y_test_pred = model.predict(X_test)"
   ]
  },
  {
   "cell_type": "code",
   "execution_count": 9,
   "id": "97c1d373",
   "metadata": {},
   "outputs": [],
   "source": [
    "y_train_pred_1 = []\n",
    "for i in range(len(y_train_pred)):\n",
    "    y_train_pred_1.append(y_train_pred[i])\n",
    "    \n",
    "y_test_pred_1 = []\n",
    "for i in range(len(y_test_pred)):\n",
    "    y_test_pred_1.append(y_test_pred[i])"
   ]
  },
  {
   "cell_type": "code",
   "execution_count": 10,
   "id": "a5538bd2",
   "metadata": {},
   "outputs": [
    {
     "name": "stderr",
     "output_type": "stream",
     "text": [
      "C:\\Users\\andry\\AppData\\Local\\Temp/ipykernel_9548/3510586234.py:3: VisibleDeprecationWarning: Creating an ndarray from ragged nested sequences (which is a list-or-tuple of lists-or-tuples-or ndarrays with different lengths or shapes) is deprecated. If you meant to do this, you must specify 'dtype=object' when creating the ndarray.\n",
      "  labels     = np.transpose(np.array([y_true, y_pred]))\n",
      "C:\\Users\\andry\\AppData\\Local\\Temp/ipykernel_9548/3510586234.py:11: VisibleDeprecationWarning: Creating an ndarray from ragged nested sequences (which is a list-or-tuple of lists-or-tuples-or ndarrays with different lengths or shapes) is deprecated. If you meant to do this, you must specify 'dtype=object' when creating the ndarray.\n",
      "  labels         = np.transpose(np.array([y_true, y_pred]))\n"
     ]
    },
    {
     "name": "stdout",
     "output_type": "stream",
     "text": [
      "train 0.4210926701147329\n",
      "test 0.4217520339395926\n"
     ]
    }
   ],
   "source": [
    "def amex_metric_mod(y_true, y_pred):\n",
    "\n",
    "    labels     = np.transpose(np.array([y_true, y_pred]))\n",
    "    labels     = labels[labels[:, 1].argsort()[::-1]]\n",
    "    weights    = np.where(labels[:, 0] == 0, 20, 1)\n",
    "    cut_vals   = labels[np.cumsum(weights) <= int(0.04 * np.sum(weights))]\n",
    "    top_four   = np.sum(cut_vals[:,0]) / np.sum(labels[:,0])\n",
    "\n",
    "    gini = [0,0]\n",
    "    for i in [1,0]:\n",
    "        labels         = np.transpose(np.array([y_true, y_pred]))\n",
    "        labels         = labels[labels[:, i].argsort()[::-1]]\n",
    "        weight         = np.where(labels[:,0] == 0, 20, 1)\n",
    "        weight_random  = np.cumsum(weight / np.sum(weight))\n",
    "        total_pos      = np.sum(labels[:, 0] *  weight)\n",
    "        cum_pos_found  = np.cumsum(labels[:, 0] * weight)\n",
    "        lorentz        = cum_pos_found / total_pos\n",
    "        gini[i]        = np.sum((lorentz - weight_random) * weight)\n",
    "\n",
    "    return 0.5 * (gini[1]/gini[0] + top_four)\n",
    "\n",
    "acc_1 = amex_metric_mod(y_train, y_train_pred_1)\n",
    "acc_2 = amex_metric_mod(y_test, y_test_pred_1)\n",
    "print('train', acc_1)\n",
    "print('test', acc_2)"
   ]
  },
  {
   "cell_type": "code",
   "execution_count": 11,
   "id": "4bb5686e",
   "metadata": {},
   "outputs": [],
   "source": [
    "test_data = pd.read_csv('test_data_1.csv')"
   ]
  },
  {
   "cell_type": "code",
   "execution_count": 12,
   "id": "fa2e40d5",
   "metadata": {},
   "outputs": [],
   "source": [
    "X = test_data[['D_47', 'S_15', 'B_23', 'R_10']]"
   ]
  },
  {
   "cell_type": "code",
   "execution_count": 13,
   "id": "bd5fb82f",
   "metadata": {},
   "outputs": [],
   "source": [
    "test_pred = model.predict(X)"
   ]
  },
  {
   "cell_type": "code",
   "execution_count": 14,
   "id": "abaf93bb",
   "metadata": {},
   "outputs": [
    {
     "data": {
      "text/plain": [
       "array([[0.45716238],\n",
       "       [0.2940054 ],\n",
       "       [0.18921992],\n",
       "       ...,\n",
       "       [0.08787039],\n",
       "       [0.08792162],\n",
       "       [0.08171579]], dtype=float32)"
      ]
     },
     "execution_count": 14,
     "metadata": {},
     "output_type": "execute_result"
    }
   ],
   "source": [
    "test_pred"
   ]
  },
  {
   "cell_type": "code",
   "execution_count": 15,
   "id": "3c9ca971",
   "metadata": {},
   "outputs": [],
   "source": [
    "test_pred_1 = []\n",
    "for i in range(len(test_pred)):\n",
    "    test_pred_1.append(round(float(test_pred[i])))"
   ]
  },
  {
   "cell_type": "code",
   "execution_count": 16,
   "id": "46452ce6",
   "metadata": {},
   "outputs": [],
   "source": [
    "table = pd.DataFrame({'customer_ID': test_data['customer_ID'], 'prediction': test_pred_1})"
   ]
  },
  {
   "cell_type": "code",
   "execution_count": 17,
   "id": "a28c56b3",
   "metadata": {},
   "outputs": [],
   "source": [
    "table1 = table.drop_duplicates(['customer_ID'])"
   ]
  },
  {
   "cell_type": "code",
   "execution_count": 18,
   "id": "26ec7727",
   "metadata": {},
   "outputs": [],
   "source": [
    "table2 = table1.set_index('customer_ID')"
   ]
  },
  {
   "cell_type": "code",
   "execution_count": 19,
   "id": "6a81aa87",
   "metadata": {},
   "outputs": [],
   "source": [
    "table2.to_csv('C:/Users/andry/OneDrive/Рабочий стол/Solve.csv')"
   ]
  },
  {
   "attachments": {
    "image.png": {
     "image/png": "[encoded data removed]"
    }
   },
   "cell_type": "markdown",
   "id": "906b7455",
   "metadata": {},
   "source": [
    "![image.png](attachment:image.png)"
   ]
  }
 ],
 "metadata": {
  "kernelspec": {
   "display_name": "Python 3 (ipykernel)",
   "language": "python",
   "name": "python3"
  },
  "language_info": {
   "codemirror_mode": {
    "name": "ipython",
    "version": 3
   },
   "file_extension": ".py",
   "mimetype": "text/x-python",
   "name": "python",
   "nbconvert_exporter": "python",
   "pygments_lexer": "ipython3",
   "version": "3.9.7"
  }
 },
 "nbformat": 4,
 "nbformat_minor": 5
}
